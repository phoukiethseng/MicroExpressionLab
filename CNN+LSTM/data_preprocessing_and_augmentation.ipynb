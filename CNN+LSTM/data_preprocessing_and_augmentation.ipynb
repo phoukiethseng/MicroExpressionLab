{
 "cells": [
  {
   "metadata": {
    "collapsed": true,
    "ExecuteTime": {
     "end_time": "2024-10-04T12:26:27.308547Z",
     "start_time": "2024-10-04T12:26:23.601524Z"
    }
   },
   "cell_type": "code",
   "source": [
    "import os\n",
    "import math\n",
    "import pandas as pd\n",
    "import numpy as np\n",
    "import albumentations as A\n",
    "import cv2 as cv"
   ],
   "id": "initial_id",
   "outputs": [],
   "execution_count": 1
  },
  {
   "metadata": {},
   "cell_type": "code",
   "source": [
    "DATASET_PATH = \"F:\\\\CASME2\\\\Cropped\"\n",
    "OUTPUT_DATASET_PATH = \"F:\\\\CASME2\\\\test\""
   ],
   "id": "62f600e895f29a5a",
   "outputs": [],
   "execution_count": null
  },
  {
   "metadata": {},
   "cell_type": "code",
   "source": [
    "def frame_path(subject_number, expression_id, frame_number, dataset_path=DATASET_PATH):\n",
    "    return os.path.join(dataset_path, 'sub{:02d}'.format(subject_number), expression_id, f'reg_img{frame_number}.jpg')"
   ],
   "id": "41bf7857da9fa986",
   "outputs": [],
   "execution_count": null
  },
  {
   "metadata": {},
   "cell_type": "code",
   "source": [
    "objective_class = pd.read_excel(\"F:\\\\CASME2\\\\CASME2-ObjectiveClasses.xlsx\") # This contains label using objective class 1-7\n",
    "frame_info = pd.read_excel(\"F:\\\\CASME2\\\\CASME2-coding-20140508.xlsx\", usecols=(0,1,3,4,5), dtype={'OnsetFrame': 'Int32', 'ApexFrame': 'Int32', 'OffsetFrame': 'Int32', 'Subject': 'Int32'}, na_values={'ApexFrame': '/'}).dropna()\n",
    "\n",
    "objective_class.set_index(['Subject', 'Filename'])\n",
    "frame_info.set_index(['Subject', 'Filename'])"
   ],
   "id": "a8c1af2bdaafe8da",
   "outputs": [],
   "execution_count": null
  },
  {
   "metadata": {},
   "cell_type": "code",
   "source": "label = pd.merge(frame_info, objective_class, on=['Subject', 'Filename'], how='inner')",
   "id": "2de9bf063fb9047c",
   "outputs": [],
   "execution_count": null
  },
  {
   "metadata": {},
   "cell_type": "code",
   "source": [
    "label.insert(3, 'OnsetApexFrame', ((label.OnsetFrame.to_numpy() + label.ApexFrame.to_numpy()) / 2).astype(np.int32))\n",
    "label.insert(5, 'ApexOffsetFrame', ((label.ApexFrame.to_numpy() + label.OffsetFrame.to_numpy()) / 2).astype(np.int32))"
   ],
   "id": "b6bdd391594cd60c",
   "outputs": [],
   "execution_count": null
  },
  {
   "metadata": {},
   "cell_type": "code",
   "source": "processed_label = []",
   "id": "cebe6e4b8bbc2b03",
   "outputs": [],
   "execution_count": null
  },
  {
   "metadata": {},
   "cell_type": "code",
   "source": [
    "horizontal_flips = [False, True]\n",
    "translations = [(0,0), (-2,-2), (-2,2), (2,-2), (2,2)]\n",
    "rotations = [-10, -5, 0, 5, -10]\n",
    "scales = [0.9, 1.0, 1.1]\n",
    "\n",
    "def augment_and_save( image, on_save, counter, output_path=OUTPUT_DATASET_PATH):\n",
    "    c = counter\n",
    "    for horizontal_flip in horizontal_flips:\n",
    "        for translation in translations:\n",
    "            for rotation in rotations:\n",
    "                for scale in scales:\n",
    "                    transformer  = A.Compose([\n",
    "                        A.HorizontalFlip(p=1.0 if horizontal_flip else 0.0),\n",
    "                        A.Affine(\n",
    "                            p=1.0,\n",
    "                            translate_px={'x': translation[0], 'y': translation[1]},\n",
    "                            scale=scale,\n",
    "                            rotate=rotation,\n",
    "                        )\n",
    "                    ])\n",
    "                    \n",
    "                    augmented_image = transformer(image=image)['image']\n",
    "                    filename = os.path.join(OUTPUT_DATASET_PATH, \"{:09d}.jpg\".format(c))\n",
    "                    cv.imwrite(filename, augmented_image)\n",
    "                    c += 1\n",
    "                    \n",
    "                    on_save(\"{:09d}\".format(c), c)\n",
    "    return c\n",
    " \n",
    "def a(exp_class, exp_state):\n",
    "    def cb(filename, i):\n",
    "        processed_label.append({\n",
    "            'Filename': filename,\n",
    "            'ExpressionClass': exp_class,\n",
    "            'ExpressionState': exp_state\n",
    "        })\n",
    "    return cb\n",
    "    "
   ],
   "id": "baae675c3132ea7f",
   "outputs": [],
   "execution_count": null
  },
  {
   "metadata": {},
   "cell_type": "code",
   "source": [
    "counter = 1\n",
    "for _, row in label.iterrows():\n",
    "    \n",
    "    exp_class = row['Objective Class']\n",
    "    \n",
    "    onset_frame = cv.imread(frame_path(subject_number=row['Subject'], expression_id=row['Filename'], frame_number=row['OnsetFrame']))\n",
    "    onsetapex_frame = cv.imread(frame_path(subject_number=row['Subject'], expression_id=row['Filename'], frame_number=row['OnsetApexFrame']))\n",
    "    apex_frame = cv.imread(frame_path(subject_number=row['Subject'], expression_id=row['Filename'], frame_number=row['ApexFrame']))\n",
    "    apexoffset_frame = cv.imread(frame_path(subject_number=row['Subject'], expression_id=row['Filename'], frame_number=row['ApexOffsetFrame']))\n",
    "    offset_frame = cv.imread(frame_path(subject_number=row['Subject'], expression_id=row['Filename'], frame_number=row['OffsetFrame']))\n",
    "    \n",
    "    counter = augment_and_save(onset_frame, a(exp_class, 1), counter=counter)\n",
    "    counter = augment_and_save(onsetapex_frame, a(exp_class, 2), counter=counter)\n",
    "    counter = augment_and_save(apex_frame, a(exp_class, 3), counter=counter)\n",
    "    counter = augment_and_save(apexoffset_frame, a(exp_class, 4), counter=counter)\n",
    "    counter = augment_and_save(offset_frame, a(exp_class, 5), counter=counter)\n",
    "    \n",
    "processed_label.to_excel(os.path.join(OUTPUT_DATASET_PATH, \"label.xlsx\"))"
   ],
   "id": "9fd76153e4440a50",
   "outputs": [],
   "execution_count": null
  },
  {
   "metadata": {},
   "cell_type": "code",
   "source": "",
   "id": "7f5d11e1e5a7b7bb",
   "outputs": [],
   "execution_count": null
  }
 ],
 "metadata": {
  "kernelspec": {
   "display_name": "Python 3",
   "language": "python",
   "name": "python3"
  },
  "language_info": {
   "codemirror_mode": {
    "name": "ipython",
    "version": 2
   },
   "file_extension": ".py",
   "mimetype": "text/x-python",
   "name": "python",
   "nbconvert_exporter": "python",
   "pygments_lexer": "ipython2",
   "version": "2.7.6"
  }
 },
 "nbformat": 4,
 "nbformat_minor": 5
}
